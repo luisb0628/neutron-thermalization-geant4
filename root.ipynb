{
 "cells": [
  {
   "cell_type": "code",
   "execution_count": null,
   "id": "8c81ed99",
   "metadata": {},
   "outputs": [
    {
     "name": "stdout",
     "output_type": "stream",
     "text": [
      "Neutrones Simulados Total:  100000\n",
      "--------------------------------------------------\n",
      "1. CONTEO Y ENERGÍA\n",
      "Neutrones Detectados (Flujo): 13567\n",
      "Neutrones Termalizados (< 0.025 eV): 103\n",
      "Energía Media Detectada:    3322012.992 eV\n",
      "--------------------------------------------------\n",
      "Porcentaje de Detección (Flujo): 13.5670%\n",
      "Porcentaje Termalizado (respecto a DETECTADOS): 0.7592%\n",
      "Porcentaje Termalizado (respecto a TOTAL SIMULADO): 0.1030%\n"
     ]
    }
   ],
   "source": [
    "import uproot \n",
    "import pandas as pd\n",
    "import numpy as np\n",
    "\n",
    "\n",
    "# Total de neutrones\n",
    "NEUTONES_SIMULADOS_TOTAL = 100000 \n",
    "\n",
    "E_TERMICO_MAX_EV = 0.025 \n",
    "\n",
    "# Nombres de archivos y columnas\n",
    "ARCHIVO_ROOT = \"Energy_neutrons.root\"\n",
    "NOMBRE_NTUPLE = \"NeutronData\"\n",
    "COLUMNA_ENERGIA = \"KineticEnergy_eV\"\n",
    "\n",
    "try:\n",
    "    # Abre el archivo ROOT y lee los datos en un DataFrame de Pandas\n",
    "    with uproot.open(ARCHIVO_ROOT) as file:\n",
    "        data_frame = file[NOMBRE_NTUPLE].arrays([COLUMNA_ENERGIA], library=\"pd\")\n",
    "\n",
    "except FileNotFoundError:\n",
    "    print(f\"ERROR: Archivo no encontrado. Asegúrate de que '{ARCHIVO_ROOT}' está en el directorio.\")\n",
    "    exit()\n",
    "\n",
    "# Contar el total de neutrones que llegaron al detector (detección)\n",
    "conteo_detectado = len(data_frame)\n",
    "\n",
    "# Columna de energía cinética\n",
    "energias = data_frame[COLUMNA_ENERGIA]\n",
    "\n",
    "#print(energias.describe())\n",
    "\n",
    "# Filtrar para obtener solo los neutrones termalizados\n",
    "# (Energía menor al límite térmico)\n",
    "neutrones_termalizados_df = data_frame[energias < E_TERMICO_MAX_EV]\n",
    "conteo_termalizado = len(neutrones_termalizados_df)\n",
    "\n",
    "# ====================================================================\n",
    "# 3. CÁLCULOS DE PORCENTAJES\n",
    "# ====================================================================\n",
    "\n",
    "if NEUTONES_SIMULADOS_TOTAL == 0:\n",
    "    print(\"ERROR: El total de neutrones simulados es cero. No se pueden calcular los porcentajes.\")\n",
    "    exit()\n",
    "\n",
    "# Porcentaje 1: Eficiencia de Detección (respecto al total simulado)\n",
    "porcentaje_deteccion_total = (conteo_detectado / NEUTONES_SIMULADOS_TOTAL) * 100\n",
    "\n",
    "# Porcentaje 2: Eficiencia de Termalización (respecto a los detectados)\n",
    "if conteo_detectado > 0:\n",
    "    porcentaje_termalizado_detectado = (conteo_termalizado / conteo_detectado) * 100\n",
    "else:\n",
    "    porcentaje_termalizado_detectado = 0.0\n",
    "\n",
    "# Porcentaje 3: Eficiencia de Termalización (respecto al total simulado)\n",
    "porcentaje_termalizado_total = (conteo_termalizado / NEUTONES_SIMULADOS_TOTAL) * 100\n",
    "\n",
    "print(f\"Neutrones Simulados Total:  {NEUTONES_SIMULADOS_TOTAL}\")\n",
    "print(\"-\" * 50)\n",
    "print(f\"1. CONTEO Y ENERGÍA\")\n",
    "print(f\"Neutrones Detectados (Flujo): {conteo_detectado}\")\n",
    "print(f\"Neutrones Termalizados (< {E_TERMICO_MAX_EV} eV): {conteo_termalizado:,}\")\n",
    "print(f\"Energía Media Detectada:    {energias.mean():.3f} eV\")\n",
    "print(\"-\" * 50)\n",
    "\n",
    "print(f\"Porcentaje de Detección (Flujo): {porcentaje_deteccion_total:.4f}%\")\n",
    "print(f\"Porcentaje Termalizado (respecto a DETECTADOS): {porcentaje_termalizado_detectado:.4f}%\")\n",
    "print(f\"Porcentaje Termalizado (respecto a TOTAL SIMULADO): {porcentaje_termalizado_total:.4f}%\")\n"
   ]
  }
 ],
 "metadata": {
  "kernelspec": {
   "display_name": "mi_entorno",
   "language": "python",
   "name": "python3"
  },
  "language_info": {
   "codemirror_mode": {
    "name": "ipython",
    "version": 3
   },
   "file_extension": ".py",
   "mimetype": "text/x-python",
   "name": "python",
   "nbconvert_exporter": "python",
   "pygments_lexer": "ipython3",
   "version": "3.13.3"
  }
 },
 "nbformat": 4,
 "nbformat_minor": 5
}
